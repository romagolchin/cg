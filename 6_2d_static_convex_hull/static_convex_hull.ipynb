{
 "cells": [
  {
   "cell_type": "markdown",
   "metadata": {},
   "source": [
    "## Определение\n",
    "Выпуклой оболочкой множества точек называется пересечение всех выпуклых множеств, содержащих все заданные точки."
   ]
  },
  {
   "cell_type": "markdown",
   "metadata": {},
   "source": [
    "\n",
    "## Алгоритм Джарвиса\n",
    "По-другому этот алгоритм называется \"алгоритм заворачивания подарка\". Он заключается в том, что мы ищем выпуклую оболочку последовательно, против часовой стрелки, начиная с определенной точки.\n",
    "### Алгоритм\n",
    "1. Берем самую нижнюю левую точку $p_0$.\n",
    "2. За $O(n)$ перебираем все точки, берем точку с минимальным полярным углом относительно $p_0$.\n",
    "3. Добавляем выбранную точку в оболочку, проделываем то же самое с ней и т. д.\n",
    "4. Если в какой-то момент найденная на шаге 2 точка совпала с $p_0$, то останавливаемся.\n",
    "\n",
    "Пояснение: Пусть мы  на шаге 2 хотим проверить какая точка $p_i$ или $p_j$ имеет меньший угол. Это эквивалентно тому, что предикат поворота $turn(p_0, p_i, p_j)$  будет меньше 0.\n",
    "![Пример](images/jarvis.png)\n",
    "### Корректность\n",
    "Пусть после завершения Джарвиса осталась точка $P$, не лежащая внутри полученной оболочки.\n",
    "Это значит, что она лежит справа от некоторого ребра $AB$ (считаем, что ребра оболочки упорядочены против часовой стрелки, так что все внутренние точки лежат слева от них).\n",
    "Но тогда $P$ меньше по повороту относительно $A$ чем $B$. Значит, мы должны были выбрать ее, ане $B$, для построения очередного ребра оболочки, когда мы рассматривали точку $A$. Противоречие.\n",
    "Следовательно, такой точки $P$ не существует.\n",
    "### Сложность\n",
    "Добавление каждой точки в ответ занимает $O(n)$ времени, всего точек будет $k$, поэтому итоговая сложность $O(nk)$. В худшем случае, когда оболочка состоит из всех точек сложность $O(n^2)$."
   ]
  },
  {
   "cell_type": "code",
   "execution_count": 3,
   "metadata": {},
   "outputs": [],
   "source": [
    "from utils import *\n",
    "TURN_LEFT, TURN_RIGHT, TURN_NONE = (1, -1, 0)\n",
    "\n",
    "def next_point(points, p):\n",
    "    #перебираем все точки и находим ту, у которой минимальный полярный угол относительно текущей точки p\n",
    "    q = p\n",
    "    for r in points:\n",
    "        t = turn(p, q, r)\n",
    "        if t == TURN_RIGHT or t == TURN_NONE and dist(r, p) > dist(q, p):\n",
    "            q = r\n",
    "    return q\n",
    "\n",
    "def convex_hull(points):\n",
    "    #строим выпуклую оболочку и возвращаем точки в порядке обхода против часовой стрелки\n",
    "    hull = [min(points)]\n",
    "    for p in hull:\n",
    "        q = next_point(points, p)\n",
    "        if q != hull[0]:\n",
    "            hull.append(q)\n",
    "    return hull"
   ]
  },
  {
   "cell_type": "code",
   "execution_count": 4,
   "metadata": {},
   "outputs": [
    {
     "name": "stdout",
     "output_type": "stream",
     "text": [
      "[[0, 0], [2, 0], [2, 2], [0, 2]]\n"
     ]
    }
   ],
   "source": [
    "N = 50\n",
    "x = np.random.rand(N)\n",
    "y = np.random.rand(N)\n",
    "\n",
    "points = [[0, 2], [0, 0], [2, 0], [2, 2], [1, 1]]\n",
    "ch = convex_hull(points)\n",
    "print(ch)"
   ]
  },
  {
   "cell_type": "code",
   "execution_count": 5,
   "metadata": {},
   "outputs": [
    {
     "data": {
      "image/png": "[encoded data removed]",
      "text/plain": [
       "<matplotlib.figure.Figure at 0x7fd4f79b8f98>"
      ]
     },
     "metadata": {},
     "output_type": "display_data"
    }
   ],
   "source": [
    "xs = [x[0] for x in points]\n",
    "ys = [x[1] for x in points]\n",
    "plt.scatter(xs, ys, color=\"black\",  s = 50)\n",
    "x = [x[0] for x in ch]\n",
    "y = [x[1] for x in ch]\n",
    "x.append(x[0])\n",
    "y.append(y[0])\n",
    "plt.plot(x, y, 'k-', color='#00ff00', linewidth=3)\n",
    "plt.plot(x, y, 'o', color='red', markersize=8)\n",
    "plt.show()\n"
   ]
  },
  {
   "cell_type": "markdown",
   "metadata": {},
   "source": [
    "## Алгоритм Грэхема\n",
    "### Описание\n",
    "1. Находим точку $p_0$ нашего множества с самой маленькой $у$-координатой (если таких несколько, берем самую правую из них), добавляем в ответ.\n",
    "2. Сортируем все остальные точки по полярному углу относительно $p_0$.\n",
    "3. Добавляем в ответ $p_1$ - самую первую из отсортированных точек.\n",
    "4. Берем следующую по счету точку $t$. Пока $t$ и две последних точки в текущей оболочке $p_i$ и $p_{i-1}$ образуют неправый поворот (вектора $p_i$ $t$ и $p_{i-1}$ $p_i$), удаляем из оболочки $p_i$.\n",
    "5. Добавляем в оболочку $t$.\n",
    "6. Делаем п.5, пока не закончатся точки.\n",
    "\n",
    "### Корректность\n",
    "Докажем, что на каждом шаге множество $p_i$-тых является выпуклой оболочкой всех уже рассмотренных точек. Доказательство проведем по индукции.\n",
    "- База. Для трех первых точек утверждение, очевидно, выполняется.\n",
    "- Переход. Пусть для $i-1$ точек оболочки совпадают. Докажем, что и для $i$ точек они совпадут.\n",
    "Рассмотрим истинную оболочку $ch(S \\cup {i}) = ch(S) \\cup i \\setminus P$, где $P$ - множество всех точек из $ch(S)$, видимых из $i$. Так как мы добавляли точки в нашу оболочку против часовой стрелки и так как $i$-тая точка лежит в $ch(S \\cup i)$, то $P$ состоит из нескольких подряд идущих последних добавленных в оболочку точек, и именно их мы удаляем на текущем шаге. Поэтому наша оболочка и истинная для $i$ точек совпадают.\n",
    "Тогда по индукции оболочки совпадают и для $i = n$.\n",
    "\n",
    "### Сложность\n",
    "Сортировка точек занимает $O(n \\log n)$ времени. При обходе каждая точка добавляется в ответ не более одного раза, поэтому сложность этой части - $O(n)$. Суммарное время — $O(n \\log n)$."
   ]
  },
  {
   "cell_type": "code",
   "execution_count": 19,
   "metadata": {
    "collapsed": true
   },
   "outputs": [],
   "source": [
    "from utils import *\n",
    "from examples import *\n",
    "import functools as fc\n",
    "fst = [0, 0]\n",
    "\n",
    "def compare(x, y):\n",
    "    return (turn(fst, x, y) != TURN_RIGHT)\n",
    "\n",
    "def grahamscan(points):\n",
    "    n = len(points) # число точек\n",
    "    ind = list(range(n)) # список номеров точек\n",
    "    for i in range(1,n):\n",
    "        if points[ind[i]][0] < points[ind[0]][0]: # если P[i]-ая точка лежит левее P[0]-ой точки\n",
    "            ind[i], ind[0] = ind[0], ind[i] # меняем местами номера этих точек \n",
    "    \n",
    "    fst = points[0]\n",
    "    points= sorted(points, key=fc.cmp_to_key(compare))\n",
    "    print(points)\n",
    "    \n",
    "    st = [ind[0], ind[1]] # создаем стек\n",
    "    for i in range(2, n):\n",
    "        print(st)\n",
    "        while turn(points[st[len(st)-2]], points[st[len(st)-1]], points[ind[i]]) == TURN_RIGHT:\n",
    "            del st[-1] # pop(S)\n",
    "        st.append(ind[i]) # push(S,P[i])\n",
    "    return st"
   ]
  },
  {
   "cell_type": "code",
   "execution_count": 20,
   "metadata": {},
   "outputs": [
    {
     "name": "stdout",
     "output_type": "stream",
     "text": [
      "[[5.0, 0.0], [5.0, 1.0], [7.0, 3.0], [4.0, 4.0], [4.5, 3.0], [1.0, 7.0]]\n",
      "[5, 1]\n",
      "[5, 1, 2]\n",
      "[5, 0]\n",
      "[5, 0, 4]\n",
      "[1.0, 7.0]\n",
      "[5.0, 0.0]\n",
      "[4.5, 3.0]\n",
      "[4.0, 4.0]\n"
     ]
    }
   ],
   "source": [
    "points = example1\n",
    "ch = grahamscan(points)\n",
    "for i in ch:\n",
    "    print(points[i])"
   ]
  },
  {
   "cell_type": "markdown",
   "metadata": {},
   "source": [
    "## Алгоритм Эндрю\n",
    "### Описание\n",
    "1. Возьмем самую левую и самую правую точки - $p_0$ и $p_n$\n",
    "2. Разделим все множество точек на \"верхние\"и \"нижние\" - точки выше прямой $p_0p_n$ и ниже ее, соответственно.\n",
    "3. Для \"верхних\"и \"нижних\"точек построим верхнюю и нижнюю оболочку соответственно. Строить будет Грэмом, но представляя, что точка $p_0$ лежит в $\\infty$ и $-\\infty$ соответственно. Тогда мы можем сказать, что обычная сортировка точек по координате $x$ эквивалентна сортировке по повороту относительно бесконечно удаленной точки. Значит, отсортируем на самом деле точки каждой из половин по $x$-координате и запустим Грэма.\n",
    "4. Объединим верхнюю и нижнюю оболочки.\n",
    "\n",
    "###  Корректность\n",
    "Грэм корректен, а значит, верхняя и нижняя оболочки будут корректны. Тогда и вся оболочка\n",
    "корректна.\n",
    "### Асимптотика\n",
    "Ровно такая же как у Грэма. Также можно отметить тот факт, что Эндрю в целом работает быстрее чем Грэхем, так как использует всего $O(n)$ поворотов, в то время как Грэхем использует $O(n \\log n)$ поворотов."
   ]
  },
  {
   "cell_type": "code",
   "execution_count": null,
   "metadata": {
    "collapsed": true
   },
   "outputs": [],
   "source": [
    "\n",
    "TURN_LEFT, TURN_RIGHT, TURN_NONE = (1, -1, 0)\n",
    "\n",
    "def cmp(a, b):\n",
    "    return (a > b) - (a < b)\n",
    "\n",
    "def turn(q, r, p):\n",
    "    #предикат поворота, возвращает 1, -1, 0, если точки p, q, r  образуют левый, правый повороты \n",
    "    #или лежат на одной прямой, соответственно.\n",
    "    return cmp((q[0] - p[0])*(r[1] - p[1]) - (r[0] - p[0])*(q[1] - p[1]), 0)\n",
    "\n",
    "def keep_left(hull, r):\n",
    "    while len(hull) > 1 and turn(hull[-1], r, hull[-2]) != TURN_LEFT:\n",
    "            hull.pop()\n",
    "    if not len(hull) or hull[-1] != r:\n",
    "        hull.append(r)\n",
    "    return hull\n",
    "\n",
    "def convex_hull(points):\n",
    "    points = sorted(points)\n",
    "    l = reduce(keep_left, points, [])\n",
    "    u = reduce(keep_left, reversed(points), [])\n",
    "    return l.extend(u[i] for i in xrange(1, len(u) - 1)) or l"
   ]
  },
  {
   "cell_type": "markdown",
   "metadata": {},
   "source": [
    "## Алгоритм Чена\n",
    "Является комбинацией двух алгоритмов - Джарвиса и Грехема. Недостатком Грэхема является необходимость сортировки всех точек по полярному углу, что занимает достаточно много времени $O(n \\log n)$. Джарвис требует перебора всех точек для каждой из $k$ точек оболочки, что в худшем случае занимает $O(n^2)$.\n",
    "### Описание\n",
    "1. Разобьем все множество на произвольные группы по $m$ штук в каждой. Будем считать, что $m$ нам известно. Тогда всего групп окажется $r = n / m$.\n",
    "2. Для каждой группы запускаем Грехема.\n",
    "3. Начиная с самой нижней точки ищем саму выпуклую оболочку Джарвисом, но перебираем не все точки, а по одной из каждой группы.\n",
    "![Пример](images/chan.png)\n",
    "\n",
    "### Сложность\n",
    "На втором шаге алгоритма в каждой группе оболочка ищется за $O(m \\log m)$, общее время - $O(r m \\log m) = O(n \\log m)$. На третьем шаге поиск каждой следующей точки в каждой группе занимает $O(\\log m)$, так как точки уже отсортированы, и мы можем найти нужную бинпоиском. Тогда поиск по всем группам займет $O(r \\log m) = O(\\frac{n}{m} \\log m)$. Всего таких шагов будет $k$, значит общее время - $O(\\frac{kn}{m} \\log m)$. Итоговое время - $O(n (1 + \\frac{k}{m}) \\log m)$. Несложно видеть, что минимум достигается при $m = k$. В таком случае сложность равна $O(n \\log k)$.\n",
    "## Нахождение m\n",
    "Как заранее узнать $k$? Воспользуемся следующим методом. Положим $m = 2^{2^t}$. Начиная с маленьких $m$ будем запускать наш алгоритм, причем если на третьем шаге Джарвис уже сделал $m$ шагов, то мы выбрали наше $m$ слишком маленьким, будем увеличивать, пока не станет $m \\ge k$. Тогда общее время алгоритма - $\\sum_{t=0}^{O(\\log\\log k)} O\\left(n \\log(2^{2^t})\\right) = O(n) \\sum_{t=0}^{O(\\log\\log k)} O(2^t) = O\\left(n \\cdot 2^{1+O(\\log\\log k)}\\right) = O(n \\log k)$."
   ]
  },
  {
   "cell_type": "code",
   "execution_count": 4,
   "metadata": {
    "collapsed": true
   },
   "outputs": [],
   "source": [
    "TURN_LEFT, TURN_RIGHT, TURN_NONE = (1, -1, 0)\n",
    "\n",
    "def turn(p, q, r):\n",
    "    return cmp((q[0] - p[0])*(r[1] - p[1]) - (r[0] - p[0])*(q[1] - p[1]), 0)\n",
    "\n",
    "def keep_left(hull, r):\n",
    "    while len(hull) > 1 and turn(hull[-2], hull[-1], r) != TURN_LEFT:\n",
    "            hull.pop()\n",
    "    return (not len(hull) or hull[-1] != r) and hull.append(r) or hull\n",
    "\n",
    "def andrew_hull(points):\n",
    "    points.sort()\n",
    "    lh = reduce(_keep_left, points, [])\n",
    "    uh = reduce(_keep_left, reversed(points), [])\n",
    "    return lh.extend(uh[i] for i in xrange(1, len(uh) - 1)) or lh\n",
    "\n",
    "def rtangent(hull, p):\n",
    "    l, r = 0, len(hull)\n",
    "    l_prev = turn(p, hull[0], hull[-1])\n",
    "    l_next = turn(p, hull[0], hull[(l + 1) % r])\n",
    "    while l < r:\n",
    "        c = (l + r) / 2\n",
    "        c_prev = turn(p, hull[c], hull[(c - 1) % len(hull)])\n",
    "        c_next = turn(p, hull[c], hull[(c + 1) % len(hull)])\n",
    "        c_side = turn(p, hull[l], hull[c])\n",
    "        if c_prev != TURN_RIGHT and c_next != TURN_RIGHT:\n",
    "            return c\n",
    "        elif c_side == TURN_LEFT and (l_next == TURN_RIGHT or\n",
    "                                      l_prev == l_next) or \\\n",
    "                c_side == TURN_RIGHT and c_prev == TURN_RIGHT:\n",
    "            r = c       \n",
    "        else:\n",
    "            l = c + 1       \n",
    "            l_prev = -c_next\n",
    "            l_next = turn(p, hull[l], hull[(l + 1) % len(hull)])\n",
    "    return l\n",
    "\n",
    "def min_hull_pt_pair(hulls):\n",
    "    h, p = 0, 0\n",
    "    for i in xrange(len(hulls)):\n",
    "        j = min(xrange(len(hulls[i])), key=lambda j: hulls[i][j])\n",
    "        if hulls[i][j] < hulls[h][p]:\n",
    "            h, p = i, j\n",
    "    return (h, p)\n",
    "\n",
    "def next_hull_pt_pair(hulls, pair):\n",
    "\n",
    "    p = hulls[pair[0]][pair[1]]\n",
    "    next = (pair[0], (pair[1] + 1) % len(hulls[pair[0]]))\n",
    "    for h in (i for i in xrange(len(hulls)) if i != pair[0]):\n",
    "        s = rtangent(hulls[h], p)\n",
    "        q, r = hulls[next[0]][next[1]], hulls[h][s]\n",
    "        t = turn(p, q, r)\n",
    "        if t == TURN_RIGHT or t == TURN_NONE and _dist(p, r) > _dist(p, q):\n",
    "            next = (h, s)\n",
    "    return next\n",
    "\n",
    "def convex_hull(pts):\n",
    "    for m in (1 << (1 << t) for t in xrange(len(pts))):\n",
    "        hulls = [andrew_hull(pts[i:i + m]) for i in xrange(0, len(pts), m)]\n",
    "        hull = [min_hull_pt_pair(hulls)]\n",
    "        for throw_away in xrange(m):\n",
    "            p = next_hull_pt_pair(hulls, hull[-1])\n",
    "            if p == hull[0]:\n",
    "                return [hulls[h][i] for h, i in hull]\n",
    "            hull.append(p)"
   ]
  },
  {
   "cell_type": "markdown",
   "metadata": {},
   "source": [
    "## QuickHull\n",
    "### Описание\n",
    "1. Найдем самую левую точку $p_0$ и самую правую точку $p_1$ (Если таких несколько, выберем среди таких нижнюю и верхнюю соответственно).\n",
    "2. Возьмем все точки выше прямой $p_0 p_1$.\n",
    "3. Найдем среди этого множества точку $p_i$, наиболее отдаленную от прямой (если таких несколько, взять самую правую).\n",
    "4. Рекурсивно повторить шаги 2-3 для прямых $p_0 p_i$ и $p_i p_1$, пока есть точки.\n",
    "5. Добавить в ответ точки $p_0 \\dots p_i \\dots p_1$, полученные в п. 3.\n",
    "6. Повторить пункты 2-5 для $p_1 p_0$ (то есть для \"нижней\" половины).\n",
    "7. Ответ - объединение списков из п. 5 для верхней и нижней половины.\n",
    "![Пример](images/quick_hull.png)\n",
    "\n",
    "### Корректность\n",
    "Очевидно, что выпуклая оболочка всего множества является объединением выпуклых оболочек для верхнего и нижнего множества. Докажем, что алгоритм верно строит оболочку для верхнего множества, для нижнего рассуждения аналогичны. Точки p_0 и p_1 принадлежат оболочке.\n",
    "- Пусть какая-то точка входит в нашу оболочку, но не должна.\n",
    "Назовем эту точку t. По алгоритму эта точка появилась как самая удаленная от некой прямой t_1 t_2. Так как t не входит в оболочку, то существует прямая t_3 t_4 из настоящей выпуклой оболочки, что t лежит снизу от прямой. Тогда какая-то из t_3 и t_4 удалена от прямой дальше t, что противоречит алгоритму.\n",
    "- Наоборот, пусть какой-то точки t в нашей оболочке нет, а должна быть.\n",
    "Пойдем вниз рекурсии в те ветки, где есть t. В какой-то момент t окажется внутри некоторого треугольника. Но тогда возникает противоречие с тем, что t принадлежит выпуклой оболочке.\n",
    "Таким образом, наша оболочка совпадает с истинной, а значит алгоритм корректен.\n",
    "\n",
    "### Сложность\n",
    "Пусть время, необходимое для нахождения оболочки над некой прямой и множеством точек $S$ есть $T(S)$ Тогда $T(S) = O(\\|S\\|) + T(A \\in S) + T(B \\in S)$, где $A$, $B$ - множества над полученными прямыми. Отсюда видно, что в худшем случае, алгоритм тратит $O(n^2)$. На рандомных же данных это число равно $O(n \\log n)$\n"
   ]
  },
  {
   "cell_type": "code",
   "execution_count": 18,
   "metadata": {
    "collapsed": true
   },
   "outputs": [],
   "source": [
    "def get_hull_points(listPts):\n",
    "    min, max = get_min_max_x(listPts)\n",
    "    hullpts = quickhull(listPts, min, max)\n",
    "    hullpts = hullpts + quickhull(listPts, max, min)\n",
    "    return hullpts \n",
    "\n",
    "def quick_hull(listPts, min, max):\n",
    "    left_of_line_pts = get_points_left_of_line(min, max, listPts)\n",
    "    ptC = point_max_from_line(min, max, left_of_line_pts)\n",
    "    if len(ptC) < 1:\n",
    "        return [max]\n",
    "\n",
    "    hullPts = quick_hull(left_of_line_pts, min, ptC)\n",
    "    hullPts = hullPts + quick_hull(left_of_line_pts, ptC, max)\n",
    "\n",
    "    return hullPts\n",
    "\n",
    "\n",
    "def get_points_left_of_line(start, end, listPts):\n",
    "    pts = []\n",
    "    for pt in listPts:\n",
    "        if isCCW(start, end, pt):\n",
    "            pts.append(pt)\n",
    "\n",
    "    return pts\n",
    "\n",
    "def point_max_from_line(start, end, points):\n",
    "    max_dist = 0\n",
    "\n",
    "    max_point = []\n",
    "\n",
    "    for point in points:\n",
    "        if point != start and point != end:\n",
    "            dist = distance(start, end, point)\n",
    "            if dist > max_dist:\n",
    "                max_dist = dist\n",
    "                max_point = point\n",
    "\n",
    "    return max_point\n",
    "\n",
    "def get_min_max_x(list_pts):\n",
    "    min_x = float('inf')\n",
    "    max_x = 0\n",
    "    min_y = 0\n",
    "    max_y = 0\n",
    "\n",
    "    for x,y in list_pts:\n",
    "        if x < min_x:\n",
    "            min_x = x\n",
    "            min_y = y\n",
    "        if x > max_x:\n",
    "            max_x = x\n",
    "            max_y = y\n",
    "\n",
    "    return [min_x,min_y], [max_x,max_y]\n",
    "\n",
    "def distance(start, end, pt): # pt is the point\n",
    "    x1, y1 = start\n",
    "    x2, y2 = end\n",
    "    x0, y0 = pt\n",
    "    nom = abs((y2 - y1) * x0 - (x2 - x1) * y0 + x2 * y1 - y2 * x1)\n",
    "    denom = ((y2 - y1)**2 + (x2 - x1) ** 2) ** 0.5\n",
    "    result = nom / denom\n",
    "    return result"
   ]
  },
  {
   "cell_type": "markdown",
   "metadata": {},
   "source": [
    "## Оболочка многоугольника\n",
    "Дан многоугольник без самопересечений. Хотим найти для него выпуклую оболочку за линию.\n",
    "### Описание\n",
    "Сделаем обход Грэхема по многоугольнику, начиная с самой левой точки. Это займет $O(n)$ времени.\n",
    "### Корректность\n",
    "Докажем, что в итоге выпуклая оболочка получится корректной.\n",
    "\n",
    "Не всегда является правдой то, что стек после $k$ -ой итерации представляет собой список вершин\n",
    "корректной выпуклой оболочки для $k − 1$ вершин – очередная вершина многоугольника может по-\n",
    "вернуть сильно назад, и после исключения криво повернутых вершин оболочка может перестать их\n",
    "заключать. Однако является правдой то, что построенная на $k$ -ом шаге оболочка является корректной\n",
    "выпуклой оболочкой для всех вершин, лежащих справа от ребра $p0pk$. Так как в многоугольнике нет\n",
    "самопересечений, это ребро пройдет через любую точку нечетное количество раз, а значит, в конечном\n",
    "итоге каждая точка войдет в выпуклую оболочку."
   ]
  },
  {
   "cell_type": "markdown",
   "metadata": {},
   "source": []
  }
 ],
 "metadata": {
  "kernelspec": {
   "display_name": "Python 3",
   "language": "python",
   "name": "python3"
  },
  "language_info": {
   "codemirror_mode": {
    "name": "ipython",
    "version": 3
   },
   "file_extension": ".py",
   "mimetype": "text/x-python",
   "name": "python",
   "nbconvert_exporter": "python",
   "pygments_lexer": "ipython3",
   "version": "3.5.3"
  }
 },
 "nbformat": 4,
 "nbformat_minor": 1
}
